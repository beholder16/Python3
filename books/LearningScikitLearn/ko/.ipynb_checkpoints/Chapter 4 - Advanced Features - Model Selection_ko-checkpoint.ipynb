{
 "cells": [
  {
   "cell_type": "markdown",
   "metadata": {},
   "source": [
    "# Scikit-learn 배우기: 파이썬과 기계 학습"
   ]
  },
  {
   "cell_type": "markdown",
   "metadata": {},
   "source": [
    "## 4장 : 고급 기능 -  모델 선택(Model Selection)"
   ]
  },
  {
   "cell_type": "code",
   "execution_count": 1,
   "metadata": {
    "collapsed": false
   },
   "outputs": [
    {
     "name": "stdout",
     "output_type": "stream",
     "text": [
      "Populating the interactive namespace from numpy and matplotlib\n"
     ]
    }
   ],
   "source": [
    "%pylab inline"
   ]
  },
  {
   "cell_type": "code",
   "execution_count": 2,
   "metadata": {
    "collapsed": false
   },
   "outputs": [],
   "source": [
    "from sklearn.datasets import fetch_20newsgroups\n",
    "\n",
    "news = fetch_20newsgroups(subset='all')\n",
    "\n",
    "n_samples = 3000\n",
    "\n",
    "X = news.data[:n_samples]\n",
    "y = news.target[:n_samples]"
   ]
  },
  {
   "cell_type": "code",
   "execution_count": 3,
   "metadata": {
    "collapsed": false
   },
   "outputs": [],
   "source": [
    "from sklearn.naive_bayes import MultinomialNB\n",
    "from sklearn.pipeline import Pipeline\n",
    "from sklearn.feature_extraction.text import TfidfVectorizer"
   ]
  },
  {
   "cell_type": "code",
   "execution_count": 4,
   "metadata": {
    "collapsed": false
   },
   "outputs": [],
   "source": [
    "def get_stop_words():\n",
    "    result = set()\n",
    "    for line in open('stopwords_en.txt', 'r').readlines():\n",
    "        result.add(line.strip())\n",
    "    return result\n",
    "\n",
    "stop_words = get_stop_words()\n",
    "\n",
    "clf = Pipeline([\n",
    "    ('vect', TfidfVectorizer(\n",
    "                stop_words=stop_words,\n",
    "                token_pattern=ur\"\\b[a-z0-9_\\-\\.]+[a-z][a-z0-9_\\-\\.]+\\b\",         \n",
    "    )),\n",
    "    ('nb', MultinomialNB(alpha=0.01)),\n",
    "])"
   ]
  },
  {
   "cell_type": "code",
   "execution_count": 5,
   "metadata": {
    "collapsed": false
   },
   "outputs": [],
   "source": [
    "from sklearn.cross_validation import cross_val_score, KFold\n",
    "from scipy.stats import sem\n",
    "\n",
    "def evaluate_cross_validation(clf, X, y, K):\n",
    "    # k-중첩 교차 검증 생성기를 만든다\n",
    "    cv = KFold(len(y), K, shuffle=True, random_state=0)\n",
    "    # 기본적으로 점수 함수는 에스터메이터의 점수 함수로 반환된 함수를 사용한다(정확도)\n",
    "    scores = cross_val_score(clf, X, y, cv=cv)\n",
    "    print scores\n",
    "    print (\"Mean score: {0:.3f} (+/-{1:.3f})\").format(\n",
    "        np.mean(scores), sem(scores))"
   ]
  },
  {
   "cell_type": "code",
   "execution_count": 6,
   "metadata": {
    "collapsed": false
   },
   "outputs": [
    {
     "name": "stdout",
     "output_type": "stream",
     "text": [
      "[ 0.812  0.808  0.822]\n",
      "Mean score: 0.814 (+/-0.004)\n"
     ]
    }
   ],
   "source": [
    "evaluate_cross_validation(clf, X, y, 3)"
   ]
  },
  {
   "cell_type": "code",
   "execution_count": 7,
   "metadata": {
    "collapsed": false
   },
   "outputs": [],
   "source": [
    "def calc_params(X, y, clf, param_values, param_name, K):\n",
    "    # 0으로 훈련과 테스트 점수 배열을 초기화한다\n",
    "    train_scores = np.zeros(len(param_values))\n",
    "    test_scores = np.zeros(len(param_values))\n",
    "    \n",
    "    # 매개 변수 값만큼 반복한다\n",
    "    for i, param_value in enumerate(param_values):\n",
    "        print param_name, ' = ', param_value\n",
    "        \n",
    "        # 분류기 매개 변수를 설정한다\n",
    "        clf.set_params(**{param_name:param_value})\n",
    "        \n",
    "        # 각 중첩에 대한 K 점수 배열을 초기화한다\n",
    "        k_train_scores = np.zeros(K)\n",
    "        k_test_scores = np.zeros(K)\n",
    "        \n",
    "        # KFold 교차 검증 생성한다\n",
    "        cv = KFold(n_samples, K, shuffle=True, random_state=0)\n",
    "        \n",
    "        # K 중첩만큼 반복한다\n",
    "        for j, (train, test) in enumerate(cv):\n",
    "            # 훈련과 테스트 데이테로 중첩 분류기에 적합화하고 정확도를 구한다\n",
    "            clf.fit([X[k] for k in train], y[train])\n",
    "            k_train_scores[j] = clf.score([X[k] for k in train], y[train])\n",
    "            k_test_scores[j] = clf.score([X[k] for k in test], y[test])\n",
    "            \n",
    "        # K 중첩 점수의 평균을 저장한다\n",
    "        train_scores[i] = np.mean(k_train_scores)\n",
    "        test_scores[i] = np.mean(k_test_scores)\n",
    "       \n",
    "    # 로그 스케일로 훈련 데이터와 테스트 데이터를 그린다\n",
    "    plt.semilogx(param_values, train_scores, alpha=0.4, lw=2, c='b')\n",
    "    plt.semilogx(param_values, test_scores, alpha=0.4, lw=2, c='g')\n",
    "    \n",
    "    plt.xlabel(param_name + \" values\")\n",
    "    plt.ylabel(\"Mean cross validation accuracy\")\n",
    "\n",
    "    # 매개 변수에 대한 훈련과 테스트 점수를 반환한다\n",
    "    return train_scores, test_scores"
   ]
  },
  {
   "cell_type": "code",
   "execution_count": 8,
   "metadata": {
    "collapsed": false
   },
   "outputs": [
    {
     "name": "stdout",
     "output_type": "stream",
     "text": [
      "[  1.00000000e-07   1.00000000e-06   1.00000000e-05   1.00000000e-04\n",
      "   1.00000000e-03   1.00000000e-02   1.00000000e-01   1.00000000e+00]\n"
     ]
    }
   ],
   "source": [
    "alphas = np.logspace(-7, 0, 8)\n",
    "print alphas"
   ]
  },
  {
   "cell_type": "code",
   "execution_count": null,
   "metadata": {
    "collapsed": false
   },
   "outputs": [
    {
     "name": "stdout",
     "output_type": "stream",
     "text": [
      "nb__alpha  =  1e-07\n",
      "nb__alpha  =  1e-06\n",
      "nb__alpha"
     ]
    }
   ],
   "source": [
    "train_scores, test_scores = calc_params(X, y, clf, alphas, 'nb__alpha', 3)"
   ]
  },
  {
   "cell_type": "code",
   "execution_count": 10,
   "metadata": {
    "collapsed": false
   },
   "outputs": [
    {
     "name": "stdout",
     "output_type": "stream",
     "text": [
      "training scores:  [ 1.          1.          1.          1.          1.          1.\n",
      "  0.99683333  0.97416667]\n",
      "testing scores:  [ 0.77133333  0.77666667  0.78233333  0.79433333  0.80333333  0.814\n",
      "  0.80733333  0.74533333]\n"
     ]
    }
   ],
   "source": [
    "print 'training scores: ', train_scores\n",
    "print 'testing scores: ', test_scores"
   ]
  },
  {
   "cell_type": "code",
   "execution_count": 11,
   "metadata": {
    "collapsed": false
   },
   "outputs": [],
   "source": [
    "from sklearn.svm import SVC\n",
    "\n",
    "clf = Pipeline([\n",
    "    ('vect', TfidfVectorizer(\n",
    "                stop_words=stop_words,\n",
    "                token_pattern=ur\"\\b[a-z0-9_\\-\\.]+[a-z][a-z0-9_\\-\\.]+\\b\",         \n",
    "    )),\n",
    "    ('svc', SVC()),\n",
    "])"
   ]
  },
  {
   "cell_type": "code",
   "execution_count": 12,
   "metadata": {
    "collapsed": false
   },
   "outputs": [
    {
     "name": "stdout",
     "output_type": "stream",
     "text": [
      "svc__gamma  =  0.01\n",
      "svc__gamma  =  0.1\n",
      "svc__gamma  =  1.0\n",
      "svc__gamma  =  10.0\n"
     ]
    },
    {
     "data": {
      "image/png": "[encoded data removed]",
      "text/plain": [
       "<matplotlib.figure.Figure at 0xdb6fe50>"
      ]
     },
     "metadata": {},
     "output_type": "display_data"
    }
   ],
   "source": [
    "gammas = np.logspace(-2, 1, 4)\n",
    "\n",
    "train_scores, test_scores = calc_params(X, y, clf, gammas, 'svc__gamma', 3)"
   ]
  },
  {
   "cell_type": "code",
   "execution_count": 13,
   "metadata": {
    "collapsed": false
   },
   "outputs": [
    {
     "name": "stdout",
     "output_type": "stream",
     "text": [
      "training scores:  [ 0.06183333  0.279       0.99966667  1.        ]\n",
      "testing scores:  [ 0.04866667  0.162       0.74666667  0.05166667]\n"
     ]
    }
   ],
   "source": [
    "print 'training scores: ', train_scores\n",
    "print 'testing scores: ', test_scores"
   ]
  },
  {
   "cell_type": "markdown",
   "metadata": {},
   "source": [
    "감마(gamma) < 1에 대하여 과소적합화를 겪는다. 감마 > 1에 대해서, 과적합화를 겪는다. 최적의 결과는 감마 = 1로서 훈련 정확도는 0.999과 테스트 정확도는 0.760을 얻는다."
   ]
  },
  {
   "cell_type": "code",
   "execution_count": 14,
   "metadata": {
    "collapsed": false
   },
   "outputs": [],
   "source": [
    "from sklearn.grid_search import GridSearchCV\n",
    "\n",
    "parameters = {\n",
    "    'svc__gamma': np.logspace(-2, 1, 4),\n",
    "    'svc__C': np.logspace(-1, 1, 3),\n",
    "}\n",
    "\n",
    "clf = Pipeline([\n",
    "    ('vect', TfidfVectorizer(\n",
    "                stop_words=stop_words,\n",
    "                token_pattern=ur\"\\b[a-z0-9_\\-\\.]+[a-z][a-z0-9_\\-\\.]+\\b\",         \n",
    "    )),\n",
    "    ('svc', SVC()),\n",
    "])\n",
    "\n",
    "gs = GridSearchCV(clf, parameters, verbose=2, refit=False, cv=3)"
   ]
  },
  {
   "cell_type": "code",
   "execution_count": 15,
   "metadata": {
    "collapsed": false
   },
   "outputs": [],
   "source": [
    "from sklearn.externals import joblib\n",
    "from sklearn.cross_validation import ShuffleSplit\n",
    "import os\n",
    "\n",
    "def persist_cv_splits(X, y, K=3, name='data', suffix=\"_cv_%03d.pkl\"):\n",
    "    \"\"\"K 중첩을 파일에 저장한다.\"\"\"\n",
    "    \n",
    "    cv_split_filenames = []\n",
    "    \n",
    "    # KFold 교차 검증 생성한다\n",
    "    cv = KFold(n_samples, K, shuffle=True, random_state=0)\n",
    "    \n",
    "    # K 중첩만큼 반복한다\n",
    "    for i, (train, test) in enumerate(cv):\n",
    "        cv_fold = ([X[k] for k in train], y[train], [X[k] for k in test], y[test])\n",
    "        cv_split_filename = name + suffix % i\n",
    "        cv_split_filename = os.path.abspath(cv_split_filename)\n",
    "        joblib.dump(cv_fold, cv_split_filename)\n",
    "        cv_split_filenames.append(cv_split_filename)\n",
    "    \n",
    "    return cv_split_filenames"
   ]
  },
  {
   "cell_type": "code",
   "execution_count": 16,
   "metadata": {
    "collapsed": false
   },
   "outputs": [
    {
     "name": "stdout",
     "output_type": "stream",
     "text": [
      "Fitting 3 folds for each of 12 candidates, totalling 36 fits\n",
      "[GridSearchCV] svc__gamma=0.01, svc__C=0.1 .....................................\n",
      "[GridSearchCV] ............................ svc__gamma=0.01, svc__C=0.1 -   9.5s\n",
      "[GridSearchCV] svc__gamma=0.01, svc__C=0.1 .....................................\n",
      "[GridSearchCV] ............................ svc__gamma=0.01, svc__C=0.1 -   9.5s\n",
      "[GridSearchCV] svc__gamma=0.01, svc__C=0.1 .....................................\n",
      "[GridSearchCV] ............................ svc__gamma=0.01, svc__C=0.1 -   9.3s\n",
      "[GridSearchCV] svc__gamma=0.1, svc__C=0.1 ......................................\n",
      "[GridSearchCV] ............................. svc__gamma=0.1, svc__C=0.1 -   9.4s\n",
      "[GridSearchCV] svc__gamma=0.1, svc__C=0.1 ......................................\n",
      "[GridSearchCV] ............................. svc__gamma=0.1, svc__C=0.1 -   9.1s\n",
      "[GridSearchCV] svc__gamma=0.1, svc__C=0.1 ......................................\n",
      "[GridSearchCV] ............................. svc__gamma=0.1, svc__C=0.1 -   9.2s\n",
      "[GridSearchCV] svc__gamma=1.0, svc__C=0.1 ......................................\n",
      "[GridSearchCV] ............................. svc__gamma=1.0, svc__C=0.1 -   9.2s\n",
      "[GridSearchCV] svc__gamma=1.0, svc__C=0.1 ......................................\n",
      "[GridSearchCV] ............................. svc__gamma=1.0, svc__C=0.1 -   9.2s\n",
      "[GridSearchCV] svc__gamma=1.0, svc__C=0.1 ......................................\n",
      "[GridSearchCV] ............................. svc__gamma=1.0, svc__C=0.1 -   9.3s\n",
      "[GridSearchCV] svc__gamma=10.0, svc__C=0.1 .....................................\n",
      "[GridSearchCV] ............................ svc__gamma=10.0, svc__C=0.1 -   9.5s\n",
      "[GridSearchCV] svc__gamma=10.0, svc__C=0.1 .....................................\n",
      "[GridSearchCV] ............................ svc__gamma=10.0, svc__C=0.1 -   9.4s\n",
      "[GridSearchCV] svc__gamma=10.0, svc__C=0.1 .....................................\n",
      "[GridSearchCV] ............................ svc__gamma=10.0, svc__C=0.1 -   8.9s\n",
      "[GridSearchCV] svc__gamma=0.01, svc__C=1.0 .....................................\n",
      "[GridSearchCV] ............................ svc__gamma=0.01, svc__C=1.0 -   9.0s\n",
      "[GridSearchCV] svc__gamma=0.01, svc__C=1.0 .....................................\n",
      "[GridSearchCV] ............................ svc__gamma=0.01, svc__C=1.0 -   9.2s\n",
      "[GridSearchCV] svc__gamma=0.01, svc__C=1.0 .....................................\n",
      "[GridSearchCV] ............................ svc__gamma=0.01, svc__C=1.0 -   8.9s\n",
      "[GridSearchCV] svc__gamma=0.1, svc__C=1.0 ......................................\n",
      "[GridSearchCV] ............................. svc__gamma=0.1, svc__C=1.0 -   9.1s\n",
      "[GridSearchCV] svc__gamma=0.1, svc__C=1.0 ......................................\n",
      "[GridSearchCV] ............................. svc__gamma=0.1, svc__C=1.0 -   9.0s\n",
      "[GridSearchCV] svc__gamma=0.1, svc__C=1.0 ......................................\n",
      "[GridSearchCV] ............................. svc__gamma=0.1, svc__C=1.0 -   8.8s\n",
      "[GridSearchCV] svc__gamma=1.0, svc__C=1.0 ......................................\n",
      "[GridSearchCV] ............................. svc__gamma=1.0, svc__C=1.0 -   9.4s\n",
      "[GridSearchCV] svc__gamma=1.0, svc__C=1.0 ......................................\n",
      "[GridSearchCV] ............................. svc__gamma=1.0, svc__C=1.0 -   9.2s\n",
      "[GridSearchCV] svc__gamma=1.0, svc__C=1.0 ......................................\n",
      "[GridSearchCV] ............................. svc__gamma=1.0, svc__C=1.0 -   9.0s\n",
      "[GridSearchCV] svc__gamma=10.0, svc__C=1.0 .....................................\n",
      "[GridSearchCV] ............................ svc__gamma=10.0, svc__C=1.0 -   9.5s\n",
      "[GridSearchCV] svc__gamma=10.0, svc__C=1.0 .....................................\n",
      "[GridSearchCV] ............................ svc__gamma=10.0, svc__C=1.0 -   9.2s\n",
      "[GridSearchCV] svc__gamma=10.0, svc__C=1.0 .....................................\n",
      "[GridSearchCV] ............................ svc__gamma=10.0, svc__C=1.0 -   9.1s\n",
      "[GridSearchCV] svc__gamma=0.01, svc__C=10.0 ....................................\n",
      "[GridSearchCV] ........................... svc__gamma=0.01, svc__C=10.0 -   9.0s\n",
      "[GridSearchCV] svc__gamma=0.01, svc__C=10.0 ....................................\n",
      "[GridSearchCV] ........................... svc__gamma=0.01, svc__C=10.0 -   9.0s\n",
      "[GridSearchCV] svc__gamma=0.01, svc__C=10.0 ....................................\n",
      "[GridSearchCV] ........................... svc__gamma=0.01, svc__C=10.0 -   8.9s\n",
      "[GridSearchCV] svc__gamma=0.1, svc__C=10.0 .....................................\n",
      "[GridSearchCV] ............................ svc__gamma=0.1, svc__C=10.0 -   9.2s\n",
      "[GridSearchCV] svc__gamma=0.1, svc__C=10.0 .....................................\n",
      "[GridSearchCV] ............................ svc__gamma=0.1, svc__C=10.0 -   9.1s\n",
      "[GridSearchCV] svc__gamma=0.1, svc__C=10.0 .....................................\n",
      "[GridSearchCV] ............................ svc__gamma=0.1, svc__C=10.0 -   9.0s\n",
      "[GridSearchCV] svc__gamma=1.0, svc__C=10.0 .....................................\n",
      "[GridSearchCV] ............................ svc__gamma=1.0, svc__C=10.0 -   9.5s\n",
      "[GridSearchCV] svc__gamma=1.0, svc__C=10.0 .....................................\n",
      "[GridSearchCV] ............................ svc__gamma=1.0, svc__C=10.0 -   9.2s\n",
      "[GridSearchCV] svc__gamma=1.0, svc__C=10.0 .....................................\n",
      "[GridSearchCV] ............................ svc__gamma=1.0, svc__C=10.0 -   9.1s\n",
      "[GridSearchCV] svc__gamma=10.0, svc__C=10.0 ....................................\n",
      "[GridSearchCV] ........................... svc__gamma=10.0, svc__C=10.0 -   9.5s\n",
      "[GridSearchCV] svc__gamma=10.0, svc__C=10.0 ....................................\n",
      "[GridSearchCV] ........................... svc__gamma=10.0, svc__C=10.0 -   9.3s\n",
      "[GridSearchCV] svc__gamma=10.0, svc__C=10.0 ....................................\n",
      "[GridSearchCV] ........................... svc__gamma=10.0, svc__C=10.0 -   9.4s"
     ]
    },
    {
     "name": "stderr",
     "output_type": "stream",
     "text": [
      "[Parallel(n_jobs=1)]: Done   1 jobs       | elapsed:    9.5s\n",
      "[Parallel(n_jobs=1)]: Done  36 out of  36 | elapsed:  5.5min finished\n"
     ]
    },
    {
     "name": "stdout",
     "output_type": "stream",
     "text": [
      "\n",
      "CPU times: user 5min 30s, sys: 172 ms, total: 5min 30s\n",
      "Wall time: 5min 31s\n"
     ]
    },
    {
     "data": {
      "text/plain": [
       "({'svc__C': 10.0, 'svc__gamma': 0.10000000000000001}, 0.82799999999999996)"
      ]
     },
     "execution_count": 16,
     "metadata": {},
     "output_type": "execute_result"
    }
   ],
   "source": [
    "%time _ = gs.fit(X, y)\n",
    "\n",
    "gs.best_params_, gs.best_score_"
   ]
  },
  {
   "cell_type": "markdown",
   "metadata": {},
   "source": [
    "격자 검색(grid search)으로 C와 감마의 좀 더 나은 조합을 구했다. C를 1.0으로 고정하고 감마만 변경했던 이전 실험에서 얻은 0.76보다 10.0의 C와 0.10의 감마로 3-중첩 교차 검증의 정확도 0.828을 얻었다."
   ]
  },
  {
   "cell_type": "markdown",
   "metadata": {},
   "source": [
    "결과를 향상하기 위해 격자 검색에서 벡터라이저의 매개 변수를 조절한다.\n"
   ]
  },
  {
   "cell_type": "markdown",
   "metadata": {},
   "source": [
    "# 병렬(Parallelizing)"
   ]
  },
  {
   "cell_type": "markdown",
   "metadata": {},
   "source": [
    "먼저, 교차 검증을 위한 k 중첩을 파일에 저장하는 함수를 선언한다. 이 파일은 해당 중첩을 실행하는 프로세스가 로드한다."
   ]
  },
  {
   "cell_type": "code",
   "execution_count": 18,
   "metadata": {
    "collapsed": false
   },
   "outputs": [],
   "source": [
    "cv_filenames = persist_cv_splits(X, y, name='news')"
   ]
  },
  {
   "cell_type": "markdown",
   "metadata": {},
   "source": [
    "다음 함수는 특정한 중첩을 로드하여 특정 매개 변수 집합으로 분류기를 적합화한다. 이후, 테스트 점수를 반환한다. 이 함수는 병렬 프로세스로부터 호출된다.\n"
   ]
  },
  {
   "cell_type": "code",
   "execution_count": 19,
   "metadata": {
    "collapsed": false
   },
   "outputs": [],
   "source": [
    "def compute_evaluation(cv_split_filename, clf, params):\n",
    "    \n",
    "    # 모든 모듈 임포트는 worker에서 실행해야 한다\n",
    "    from sklearn.externals import joblib\n",
    "\n",
    "    # 파일시스템에서 중첩 훈련과 테스트를 로드한다\n",
    "    X_train, y_train, X_test, y_test = joblib.load(\n",
    "        cv_split_filename, mmap_mode='c')\n",
    "    \n",
    "    clf.set_params(**params)\n",
    "    clf.fit(X_train, y_train)\n",
    "    test_score = clf.score(X_test, y_test)\n",
    "    return test_score"
   ]
  },
  {
   "cell_type": "markdown",
   "metadata": {},
   "source": [
    "이 함수는 병렬 프로세스에서 격자 검색을 실행한다. 각 매개 변수 조합에 대해(IterGrid 반복자를 반환한다), k중첩만큼 반복하고 평가하기 위해 프로세스를 생성한다. 태스크 리스트와 매개 변수 조합을 반환한다."
   ]
  },
  {
   "cell_type": "code",
   "execution_count": 20,
   "metadata": {
    "collapsed": false
   },
   "outputs": [],
   "source": [
    "from sklearn.grid_search import IterGrid\n",
    "\n",
    "def parallel_grid_search(lb_view, clf, cv_split_filenames, param_grid):\n",
    "    \n",
    "    all_tasks = []\n",
    "    all_parameters = list(IterGrid(param_grid))\n",
    "    \n",
    "    # 매개 변수 조합만큼 반복한다\n",
    "    for i, params in enumerate(all_parameters):\n",
    "        task_for_params = []\n",
    "        \n",
    "        # K중첩만큼 반복한다\n",
    "        for j, cv_split_filename in enumerate(cv_split_filenames):    \n",
    "            t = lb_view.apply(\n",
    "                compute_evaluation, cv_split_filename, clf, params)\n",
    "            task_for_params.append(t) \n",
    "        \n",
    "        all_tasks.append(task_for_params)\n",
    "        \n",
    "    return all_parameters, all_tasks"
   ]
  },
  {
   "cell_type": "raw",
   "metadata": {},
   "source": [
    "Client와 load balanced view을 얻기 위해 IPython을 사용한다.먼저 IPython notebook에서 Cluster탭을 사용하여 N 엔진의 로컬 클러스터을 만든다. client와 view를 만들고 parallel_grid_search을 실행한다."
   ]
  },
  {
   "cell_type": "code",
   "execution_count": 21,
   "metadata": {
    "collapsed": false
   },
   "outputs": [
    {
     "name": "stderr",
     "output_type": "stream",
     "text": [
      "/home/brenden/workspace/infinity/dist/local/lib/python2.7/site-packages/sklearn/grid_search.py:148: DeprecationWarning: IterGrid was renamed to ParameterGrid and will be removed in 0.15.\n",
      "  \" removed in 0.15.\", DeprecationWarning)\n"
     ]
    }
   ],
   "source": [
    "from sklearn.svm import SVC\n",
    "from IPython.parallel import Client\n",
    "\n",
    "client = Client()\n",
    "lb_view = client.load_balanced_view()\n",
    "\n",
    "all_parameters, all_tasks = parallel_grid_search(\n",
    "   lb_view, clf, cv_filenames, parameters)"
   ]
  },
  {
   "cell_type": "code",
   "execution_count": 22,
   "metadata": {
    "collapsed": false
   },
   "outputs": [],
   "source": [
    "def print_progress(tasks):\n",
    "    progress = np.mean([task.ready() for task_group in tasks\n",
    "                                 for task in task_group])\n",
    "    print \"Tasks completed: {0}%\".format(100 * progress)"
   ]
  },
  {
   "cell_type": "code",
   "execution_count": 30,
   "metadata": {
    "collapsed": false
   },
   "outputs": [
    {
     "name": "stdout",
     "output_type": "stream",
     "text": [
      "Tasks completed: 100.0%\n"
     ]
    }
   ],
   "source": [
    "print_progress(all_tasks)"
   ]
  },
  {
   "cell_type": "code",
   "execution_count": 31,
   "metadata": {
    "collapsed": false
   },
   "outputs": [],
   "source": [
    "def find_bests(all_parameters, all_tasks, n_top=5):\n",
    "    \"\"\"다 실행 된 태스크의 평균 점수를 구한다\"\"\"\n",
    "    mean_scores = []\n",
    "    \n",
    "    for param, task_group in zip(all_parameters, all_tasks):\n",
    "        scores = [t.get() for t in task_group if t.ready()]\n",
    "        if len(scores) == 0:\n",
    "            continue\n",
    "        mean_scores.append((np.mean(scores), param))\n",
    "                   \n",
    "    return sorted(mean_scores, reverse=True)[:n_top]"
   ]
  },
  {
   "cell_type": "code",
   "execution_count": 32,
   "metadata": {
    "collapsed": false
   },
   "outputs": [
    {
     "name": "stdout",
     "output_type": "stream",
     "text": [
      "[(0.82633333333333336, {'svc__gamma': 0.10000000000000001, 'svc__C': 10.0}), (0.78866666666666674, {'svc__gamma': 1.0, 'svc__C': 10.0}), (0.7466666666666667, {'svc__gamma': 1.0, 'svc__C': 1.0}), (0.23333333333333336, {'svc__gamma': 0.01, 'svc__C': 10.0}), (0.16200000000000001, {'svc__gamma': 0.10000000000000001, 'svc__C': 1.0})]\n"
     ]
    }
   ],
   "source": [
    "print find_bests(all_parameters, all_tasks)"
   ]
  },
  {
   "cell_type": "code",
   "execution_count": null,
   "metadata": {
    "collapsed": false
   },
   "outputs": [],
   "source": []
  }
 ],
 "metadata": {
  "kernelspec": {
   "display_name": "Python 2",
   "language": "python",
   "name": "python2"
  },
  "language_info": {
   "codemirror_mode": {
    "name": "ipython",
    "version": 2
   },
   "file_extension": ".py",
   "mimetype": "text/x-python",
   "name": "python",
   "nbconvert_exporter": "python",
   "pygments_lexer": "ipython2",
   "version": "2.7.10"
  }
 },
 "nbformat": 4,
 "nbformat_minor": 0
}
