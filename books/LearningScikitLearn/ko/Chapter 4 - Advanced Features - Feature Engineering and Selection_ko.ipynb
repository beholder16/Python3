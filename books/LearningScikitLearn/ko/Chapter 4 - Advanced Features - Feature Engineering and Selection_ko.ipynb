{
 "cells": [
  {
   "cell_type": "markdown",
   "metadata": {},
   "source": [
    "# Scikit-learn 배우기: 파이썬과 기계 학습"
   ]
  },
  {
   "cell_type": "markdown",
   "metadata": {},
   "source": [
    "## 4장 : 고급 기능 - 속성 엔지니어링(Feature Engineering)과 속성 선택(Feature Selection)"
   ]
  },
  {
   "cell_type": "code",
   "execution_count": 1,
   "metadata": {
    "collapsed": false
   },
   "outputs": [
    {
     "name": "stdout",
     "output_type": "stream",
     "text": [
      "Populating the interactive namespace from numpy and matplotlib\n"
     ]
    }
   ],
   "source": [
    "%pylab inline"
   ]
  },
  {
   "cell_type": "code",
   "execution_count": 2,
   "metadata": {
    "collapsed": false
   },
   "outputs": [],
   "source": [
    "import pandas as pd\n",
    "import numpy as np\n",
    "import matplotlib.pyplot as plt"
   ]
  },
  {
   "cell_type": "markdown",
   "metadata": {},
   "source": [
    "## pandas을 사용하여 타이타닉 데이터를 임포트한다."
   ]
  },
  {
   "cell_type": "code",
   "execution_count": 3,
   "metadata": {
    "collapsed": false
   },
   "outputs": [
    {
     "name": "stdout",
     "output_type": "stream",
     "text": [
      "      row.names pclass  survived  \\\n",
      "0             1    1st         1   \n",
      "1             2    1st         0   \n",
      "2             3    1st         0   \n",
      "3             4    1st         0   \n",
      "4             5    1st         1   \n",
      "5             6    1st         1   \n",
      "6             7    1st         1   \n",
      "7             8    1st         0   \n",
      "8             9    1st         1   \n",
      "9            10    1st         0   \n",
      "10           11    1st         0   \n",
      "11           12    1st         1   \n",
      "12           13    1st         1   \n",
      "13           14    1st         1   \n",
      "14           15    1st         0   \n",
      "15           16    1st         1   \n",
      "16           17    1st         0   \n",
      "17           18    1st         0   \n",
      "18           19    1st         1   \n",
      "19           20    1st         1   \n",
      "20           21    1st         1   \n",
      "21           22    1st         0   \n",
      "22           23    1st         1   \n",
      "23           24    1st         1   \n",
      "24           25    1st         1   \n",
      "25           26    1st         0   \n",
      "26           27    1st         1   \n",
      "27           28    1st         1   \n",
      "28           29    1st         1   \n",
      "29           30    1st         0   \n",
      "...         ...    ...       ...   \n",
      "1283       1284    3rd         0   \n",
      "1284       1285    3rd         0   \n",
      "1285       1286    3rd         0   \n",
      "1286       1287    3rd         0   \n",
      "1287       1288    3rd         0   \n",
      "1288       1289    3rd         0   \n",
      "1289       1290    3rd         1   \n",
      "1290       1291    3rd         0   \n",
      "1291       1292    3rd         0   \n",
      "1292       1293    3rd         0   \n",
      "1293       1294    3rd         1   \n",
      "1294       1295    3rd         0   \n",
      "1295       1296    3rd         0   \n",
      "1296       1297    3rd         0   \n",
      "1297       1298    3rd         0   \n",
      "1298       1299    3rd         0   \n",
      "1299       1300    3rd         0   \n",
      "1300       1301    3rd         0   \n",
      "1301       1302    3rd         0   \n",
      "1302       1303    3rd         1   \n",
      "1303       1304    3rd         0   \n",
      "1304       1305    3rd         1   \n",
      "1305       1306    3rd         0   \n",
      "1306       1307    3rd         0   \n",
      "1307       1308    3rd         0   \n",
      "1308       1309    3rd         0   \n",
      "1309       1310    3rd         0   \n",
      "1310       1311    3rd         0   \n",
      "1311       1312    3rd         0   \n",
      "1312       1313    3rd         0   \n",
      "\n",
      "                                                  name      age     embarked  \\\n",
      "0                         Allen, Miss Elisabeth Walton  29.0000  Southampton   \n",
      "1                          Allison, Miss Helen Loraine   2.0000  Southampton   \n",
      "2                  Allison, Mr Hudson Joshua Creighton  30.0000  Southampton   \n",
      "3      Allison, Mrs Hudson J.C. (Bessie Waldo Daniels)  25.0000  Southampton   \n",
      "4                        Allison, Master Hudson Trevor   0.9167  Southampton   \n",
      "5                                   Anderson, Mr Harry  47.0000  Southampton   \n",
      "6                     Andrews, Miss Kornelia Theodosia  63.0000  Southampton   \n",
      "7                               Andrews, Mr Thomas, jr  39.0000  Southampton   \n",
      "8         Appleton, Mrs Edward Dale (Charlotte Lamson)  58.0000  Southampton   \n",
      "9                               Artagaveytia, Mr Ramon  71.0000    Cherbourg   \n",
      "10                           Astor, Colonel John Jacob  47.0000    Cherbourg   \n",
      "11    Astor, Mrs John Jacob (Madeleine Talmadge Force)  19.0000    Cherbourg   \n",
      "12                        Aubert, Mrs Leontine Pauline      NaN    Cherbourg   \n",
      "13                           Barkworth, Mr Algernon H.      NaN  Southampton   \n",
      "14                                 Baumann, Mr John D.      NaN  Southampton   \n",
      "15      Baxter, Mrs James (Helene DeLaudeniere Chaput)  50.0000    Cherbourg   \n",
      "16                             Baxter, Mr Quigg Edmond  24.0000    Cherbourg   \n",
      "17                                 Beattie, Mr Thomson  36.0000    Cherbourg   \n",
      "18                        Beckwith, Mr Richard Leonard  37.0000  Southampton   \n",
      "19     Beckwith, Mrs Richard Leonard (Sallie Monypeny)  47.0000  Southampton   \n",
      "20                                Behr, Mr Karl Howell  26.0000    Cherbourg   \n",
      "21                                  Birnbaum, Mr Jakob  25.0000    Cherbourg   \n",
      "22                             Bishop, Mr Dickinson H.  25.0000    Cherbourg   \n",
      "23             Bishop, Mrs Dickinson H. (Helen Walton)  19.0000    Cherbourg   \n",
      "24             Bjornstrm-Steffansson, Mr Mauritz Hakan  28.0000  Southampton   \n",
      "25                         Blackwell, Mr Stephen Weart  45.0000  Southampton   \n",
      "26                                     Blank, Mr Henry  39.0000    Cherbourg   \n",
      "27                              Bonnell, Miss Caroline  30.0000  Southampton   \n",
      "28                             Bonnell, Miss Elizabeth  58.0000  Southampton   \n",
      "29                             Borebank, Mr John James      NaN  Southampton   \n",
      "...                                                ...      ...          ...   \n",
      "1283               Vestrom, Miss Hulda Amanda Adolfina      NaN          NaN   \n",
      "1284                                    Vonk, Mr Jenko      NaN          NaN   \n",
      "1285                                Ware, Mr Frederick      NaN          NaN   \n",
      "1286                        Warren, Mr Charles William      NaN          NaN   \n",
      "1287                                  Wazli, Mr Yousif      NaN          NaN   \n",
      "1288                                  Webber, Mr James      NaN          NaN   \n",
      "1289                     Wennerstrom, Mr August Edvard      NaN          NaN   \n",
      "1290                                Wenzel, Mr Linhart      NaN          NaN   \n",
      "1291                        Widegren, Mr Charles Peter      NaN          NaN   \n",
      "1292                          Wiklund, Mr Jacob Alfred      NaN          NaN   \n",
      "1293                                 Wilkes, Mrs Ellen      NaN          NaN   \n",
      "1294                                  Willer, Mr Aaron      NaN          NaN   \n",
      "1295                                 Willey, Mr Edward      NaN          NaN   \n",
      "1296                          Williams, Mr Howard Hugh      NaN          NaN   \n",
      "1297                               Williams, Mr Leslie      NaN          NaN   \n",
      "1298                                Windelov, Mr Einar      NaN          NaN   \n",
      "1299                                   Wirz, Mr Albert      NaN          NaN   \n",
      "1300                             Wiseman, Mr Phillippe      NaN          NaN   \n",
      "1301                           Wittevrongel, Mr Camiel      NaN          NaN   \n",
      "1302                                 Yalsevac, Mr Ivan      NaN          NaN   \n",
      "1303                                Yasbeck, Mr Antoni      NaN          NaN   \n",
      "1304                               Yasbeck, Mrs Antoni      NaN          NaN   \n",
      "1305                                Youssef, Mr Gerios      NaN          NaN   \n",
      "1306                               Zabour, Miss Hileni      NaN          NaN   \n",
      "1307                               Zabour, Miss Tamini      NaN          NaN   \n",
      "1308                                Zakarian, Mr Artun      NaN          NaN   \n",
      "1309                            Zakarian, Mr Maprieder      NaN          NaN   \n",
      "1310                                   Zenn, Mr Philip      NaN          NaN   \n",
      "1311                                     Zievens, Rene      NaN          NaN   \n",
      "1312                                    Zimmerman, Leo      NaN          NaN   \n",
      "\n",
      "                               home.dest     room             ticket   boat  \\\n",
      "0                           St Louis, MO      B-5         24160 L221      2   \n",
      "1        Montreal, PQ / Chesterville, ON      C26                NaN    NaN   \n",
      "2        Montreal, PQ / Chesterville, ON      C26                NaN  (135)   \n",
      "3        Montreal, PQ / Chesterville, ON      C26                NaN    NaN   \n",
      "4        Montreal, PQ / Chesterville, ON      C22                NaN     11   \n",
      "5                           New York, NY     E-12                NaN      3   \n",
      "6                             Hudson, NY      D-7          13502 L77     10   \n",
      "7                            Belfast, NI     A-36                NaN    NaN   \n",
      "8                    Bayside, Queens, NY    C-101                NaN      2   \n",
      "9                    Montevideo, Uruguay      NaN                NaN   (22)   \n",
      "10                          New York, NY      NaN  17754 L224 10s 6d  (124)   \n",
      "11                          New York, NY      NaN  17754 L224 10s 6d      4   \n",
      "12                         Paris, France     B-35       17477 L69 6s      9   \n",
      "13                         Hessle, Yorks     A-23                NaN      B   \n",
      "14                          New York, NY      NaN                NaN    NaN   \n",
      "15                          Montreal, PQ  B-58/60                NaN      6   \n",
      "16                          Montreal, PQ  B-58/60                NaN    NaN   \n",
      "17                          Winnipeg, MN      C-6                NaN    NaN   \n",
      "18                          New York, NY     D-35                NaN      5   \n",
      "19                          New York, NY     D-35                NaN      5   \n",
      "20                          New York, NY    C-148                NaN      5   \n",
      "21                     San Francisco, CA      NaN                NaN  (148)   \n",
      "22                          Dowagiac, MI     B-49                NaN      7   \n",
      "23                          Dowagiac, MI     B-49                NaN      7   \n",
      "24    Stockholm, Sweden / Washington, DC      NaN                         D   \n",
      "25                           Trenton, NJ      NaN                NaN  (241)   \n",
      "26                        Glen Ridge, NJ     A-31                NaN      7   \n",
      "27                        Youngstown, OH      C-7                NaN      8   \n",
      "28     Birkdale, England Cleveland, Ohio    C-103                NaN      8   \n",
      "29                 London / Winnipeg, MB   D-21/2                NaN    NaN   \n",
      "...                                  ...      ...                ...    ...   \n",
      "1283                                 NaN      NaN                NaN    NaN   \n",
      "1284                                 NaN      NaN                NaN    NaN   \n",
      "1285                                 NaN      NaN                NaN    NaN   \n",
      "1286                                 NaN      NaN                NaN    NaN   \n",
      "1287                                 NaN      NaN                NaN    NaN   \n",
      "1288                                 NaN      NaN                NaN    NaN   \n",
      "1289                                 NaN      NaN                NaN    NaN   \n",
      "1290                                 NaN      NaN                NaN    NaN   \n",
      "1291                                 NaN      NaN                NaN    NaN   \n",
      "1292                                 NaN      NaN                NaN    NaN   \n",
      "1293                                 NaN      NaN                NaN    NaN   \n",
      "1294                                 NaN      NaN                NaN    NaN   \n",
      "1295                                 NaN      NaN                NaN    NaN   \n",
      "1296                                 NaN      NaN                NaN    NaN   \n",
      "1297                                 NaN      NaN                NaN    NaN   \n",
      "1298                                 NaN      NaN                NaN    NaN   \n",
      "1299                                 NaN      NaN                NaN    NaN   \n",
      "1300                                 NaN      NaN                NaN    NaN   \n",
      "1301                                 NaN      NaN                NaN    NaN   \n",
      "1302                                 NaN      NaN                NaN    NaN   \n",
      "1303                                 NaN      NaN                NaN    NaN   \n",
      "1304                                 NaN      NaN                NaN    NaN   \n",
      "1305                                 NaN      NaN                NaN    NaN   \n",
      "1306                                 NaN      NaN                NaN    NaN   \n",
      "1307                                 NaN      NaN                NaN    NaN   \n",
      "1308                                 NaN      NaN                NaN    NaN   \n",
      "1309                                 NaN      NaN                NaN    NaN   \n",
      "1310                                 NaN      NaN                NaN    NaN   \n",
      "1311                                 NaN      NaN                NaN    NaN   \n",
      "1312                                 NaN      NaN                NaN    NaN   \n",
      "\n",
      "         sex  \n",
      "0     female  \n",
      "1     female  \n",
      "2       male  \n",
      "3     female  \n",
      "4       male  \n",
      "5       male  \n",
      "6     female  \n",
      "7       male  \n",
      "8     female  \n",
      "9       male  \n",
      "10      male  \n",
      "11    female  \n",
      "12    female  \n",
      "13      male  \n",
      "14      male  \n",
      "15    female  \n",
      "16      male  \n",
      "17      male  \n",
      "18      male  \n",
      "19    female  \n",
      "20      male  \n",
      "21      male  \n",
      "22      male  \n",
      "23    female  \n",
      "24      male  \n",
      "25      male  \n",
      "26      male  \n",
      "27    female  \n",
      "28    female  \n",
      "29      male  \n",
      "...      ...  \n",
      "1283  female  \n",
      "1284    male  \n",
      "1285    male  \n",
      "1286    male  \n",
      "1287    male  \n",
      "1288    male  \n",
      "1289    male  \n",
      "1290    male  \n",
      "1291    male  \n",
      "1292    male  \n",
      "1293  female  \n",
      "1294    male  \n",
      "1295    male  \n",
      "1296    male  \n",
      "1297    male  \n",
      "1298    male  \n",
      "1299    male  \n",
      "1300    male  \n",
      "1301    male  \n",
      "1302    male  \n",
      "1303    male  \n",
      "1304  female  \n",
      "1305    male  \n",
      "1306  female  \n",
      "1307  female  \n",
      "1308    male  \n",
      "1309    male  \n",
      "1310    male  \n",
      "1311  female  \n",
      "1312    male  \n",
      "\n",
      "[1313 rows x 11 columns]\n"
     ]
    }
   ],
   "source": [
    "titanic = pd.read_csv('data/titanic.csv')\n",
    "print titanic"
   ]
  },
  {
   "cell_type": "code",
   "execution_count": 4,
   "metadata": {
    "collapsed": false
   },
   "outputs": [
    {
     "name": "stdout",
     "output_type": "stream",
     "text": [
      "  pclass  survived      age     embarked   boat     sex\n",
      "0    1st         1  29.0000  Southampton      2  female\n",
      "1    1st         0   2.0000  Southampton    NaN  female\n",
      "2    1st         0  30.0000  Southampton  (135)    male\n",
      "3    1st         0  25.0000  Southampton    NaN  female\n",
      "4    1st         1   0.9167  Southampton     11    male\n"
     ]
    }
   ],
   "source": [
    "print titanic.head()[['pclass', 'survived', 'age', 'embarked', 'boat', 'sex']]"
   ]
  },
  {
   "cell_type": "code",
   "execution_count": 5,
   "metadata": {
    "collapsed": false
   },
   "outputs": [
    {
     "data": {
      "text/html": [
       "<div>\n",
       "<table border=\"1\" class=\"dataframe\">\n",
       "  <thead>\n",
       "    <tr style=\"text-align: right;\">\n",
       "      <th></th>\n",
       "      <th>row.names</th>\n",
       "      <th>survived</th>\n",
       "      <th>age</th>\n",
       "    </tr>\n",
       "  </thead>\n",
       "  <tbody>\n",
       "    <tr>\n",
       "      <th>count</th>\n",
       "      <td>1313.000000</td>\n",
       "      <td>1313.000000</td>\n",
       "      <td>633.000000</td>\n",
       "    </tr>\n",
       "    <tr>\n",
       "      <th>mean</th>\n",
       "      <td>657.000000</td>\n",
       "      <td>0.341965</td>\n",
       "      <td>31.194181</td>\n",
       "    </tr>\n",
       "    <tr>\n",
       "      <th>std</th>\n",
       "      <td>379.174762</td>\n",
       "      <td>0.474549</td>\n",
       "      <td>14.747525</td>\n",
       "    </tr>\n",
       "    <tr>\n",
       "      <th>min</th>\n",
       "      <td>1.000000</td>\n",
       "      <td>0.000000</td>\n",
       "      <td>0.166700</td>\n",
       "    </tr>\n",
       "    <tr>\n",
       "      <th>25%</th>\n",
       "      <td>329.000000</td>\n",
       "      <td>0.000000</td>\n",
       "      <td>21.000000</td>\n",
       "    </tr>\n",
       "    <tr>\n",
       "      <th>50%</th>\n",
       "      <td>657.000000</td>\n",
       "      <td>0.000000</td>\n",
       "      <td>30.000000</td>\n",
       "    </tr>\n",
       "    <tr>\n",
       "      <th>75%</th>\n",
       "      <td>985.000000</td>\n",
       "      <td>1.000000</td>\n",
       "      <td>41.000000</td>\n",
       "    </tr>\n",
       "    <tr>\n",
       "      <th>max</th>\n",
       "      <td>1313.000000</td>\n",
       "      <td>1.000000</td>\n",
       "      <td>71.000000</td>\n",
       "    </tr>\n",
       "  </tbody>\n",
       "</table>\n",
       "</div>"
      ],
      "text/plain": [
       "         row.names     survived         age\n",
       "count  1313.000000  1313.000000  633.000000\n",
       "mean    657.000000     0.341965   31.194181\n",
       "std     379.174762     0.474549   14.747525\n",
       "min       1.000000     0.000000    0.166700\n",
       "25%     329.000000     0.000000   21.000000\n",
       "50%     657.000000     0.000000   30.000000\n",
       "75%     985.000000     1.000000   41.000000\n",
       "max    1313.000000     1.000000   71.000000"
      ]
     },
     "execution_count": 5,
     "metadata": {},
     "output_type": "execute_result"
    }
   ],
   "source": [
    "titanic.describe()"
   ]
  },
  {
   "cell_type": "markdown",
   "metadata": {},
   "source": [
    "## 속성 추출(Feature extraction)"
   ]
  },
  {
   "cell_type": "markdown",
   "metadata": {},
   "source": [
    "_DictVectorizer_을 사용하여 범주적 속성(categorical features)을 1-of-k로 변환한다.\n"
   ]
  },
  {
   "cell_type": "code",
   "execution_count": 6,
   "metadata": {
    "collapsed": false
   },
   "outputs": [],
   "source": [
    "from sklearn import feature_extraction\n",
    "\n",
    "def one_hot_dataframe(data, cols, replace=False):\n",
    "    vec = feature_extraction.DictVectorizer()\n",
    "    mkdict = lambda row: dict((col, row[col]) for col in cols)\n",
    "    vecData = pd.DataFrame(vec.fit_transform(data[cols].apply(mkdict, axis=1)).toarray())\n",
    "    vecData.columns = vec.get_feature_names()\n",
    "    vecData.index = data.index\n",
    "    if replace:\n",
    "        data = data.drop(cols, axis=1)\n",
    "        data = data.join(vecData)\n",
    "    return (data, vecData)\n",
    "\n",
    "titanic, titanic_n = one_hot_dataframe(titanic, ['pclass', 'embarked', 'sex'], replace=True)\n"
   ]
  },
  {
   "cell_type": "code",
   "execution_count": 7,
   "metadata": {
    "collapsed": false
   },
   "outputs": [
    {
     "data": {
      "text/html": [
       "<div>\n",
       "<table border=\"1\" class=\"dataframe\">\n",
       "  <thead>\n",
       "    <tr style=\"text-align: right;\">\n",
       "      <th></th>\n",
       "      <th>row.names</th>\n",
       "      <th>survived</th>\n",
       "      <th>age</th>\n",
       "      <th>embarked</th>\n",
       "      <th>embarked=Cherbourg</th>\n",
       "      <th>embarked=Queenstown</th>\n",
       "      <th>embarked=Southampton</th>\n",
       "      <th>pclass=1st</th>\n",
       "      <th>pclass=2nd</th>\n",
       "      <th>pclass=3rd</th>\n",
       "      <th>sex=female</th>\n",
       "      <th>sex=male</th>\n",
       "    </tr>\n",
       "  </thead>\n",
       "  <tbody>\n",
       "    <tr>\n",
       "      <th>count</th>\n",
       "      <td>1313.000000</td>\n",
       "      <td>1313.000000</td>\n",
       "      <td>633.000000</td>\n",
       "      <td>821</td>\n",
       "      <td>1313.000000</td>\n",
       "      <td>1313.000000</td>\n",
       "      <td>1313.000000</td>\n",
       "      <td>1313.000000</td>\n",
       "      <td>1313.000000</td>\n",
       "      <td>1313.000000</td>\n",
       "      <td>1313.000000</td>\n",
       "      <td>1313.000000</td>\n",
       "    </tr>\n",
       "    <tr>\n",
       "      <th>mean</th>\n",
       "      <td>657.000000</td>\n",
       "      <td>0.341965</td>\n",
       "      <td>31.194181</td>\n",
       "      <td>0</td>\n",
       "      <td>0.154608</td>\n",
       "      <td>0.034273</td>\n",
       "      <td>0.436405</td>\n",
       "      <td>0.245240</td>\n",
       "      <td>0.213252</td>\n",
       "      <td>0.541508</td>\n",
       "      <td>0.352628</td>\n",
       "      <td>0.647372</td>\n",
       "    </tr>\n",
       "    <tr>\n",
       "      <th>std</th>\n",
       "      <td>379.174762</td>\n",
       "      <td>0.474549</td>\n",
       "      <td>14.747525</td>\n",
       "      <td>0</td>\n",
       "      <td>0.361668</td>\n",
       "      <td>0.181998</td>\n",
       "      <td>0.496128</td>\n",
       "      <td>0.430393</td>\n",
       "      <td>0.409760</td>\n",
       "      <td>0.498464</td>\n",
       "      <td>0.477970</td>\n",
       "      <td>0.477970</td>\n",
       "    </tr>\n",
       "    <tr>\n",
       "      <th>min</th>\n",
       "      <td>1.000000</td>\n",
       "      <td>0.000000</td>\n",
       "      <td>0.166700</td>\n",
       "      <td>0</td>\n",
       "      <td>0.000000</td>\n",
       "      <td>0.000000</td>\n",
       "      <td>0.000000</td>\n",
       "      <td>0.000000</td>\n",
       "      <td>0.000000</td>\n",
       "      <td>0.000000</td>\n",
       "      <td>0.000000</td>\n",
       "      <td>0.000000</td>\n",
       "    </tr>\n",
       "    <tr>\n",
       "      <th>25%</th>\n",
       "      <td>329.000000</td>\n",
       "      <td>0.000000</td>\n",
       "      <td>21.000000</td>\n",
       "      <td>0</td>\n",
       "      <td>0.000000</td>\n",
       "      <td>0.000000</td>\n",
       "      <td>0.000000</td>\n",
       "      <td>0.000000</td>\n",
       "      <td>0.000000</td>\n",
       "      <td>0.000000</td>\n",
       "      <td>0.000000</td>\n",
       "      <td>0.000000</td>\n",
       "    </tr>\n",
       "    <tr>\n",
       "      <th>50%</th>\n",
       "      <td>657.000000</td>\n",
       "      <td>0.000000</td>\n",
       "      <td>30.000000</td>\n",
       "      <td>0</td>\n",
       "      <td>0.000000</td>\n",
       "      <td>0.000000</td>\n",
       "      <td>0.000000</td>\n",
       "      <td>0.000000</td>\n",
       "      <td>0.000000</td>\n",
       "      <td>1.000000</td>\n",
       "      <td>0.000000</td>\n",
       "      <td>1.000000</td>\n",
       "    </tr>\n",
       "    <tr>\n",
       "      <th>75%</th>\n",
       "      <td>985.000000</td>\n",
       "      <td>1.000000</td>\n",
       "      <td>41.000000</td>\n",
       "      <td>0</td>\n",
       "      <td>0.000000</td>\n",
       "      <td>0.000000</td>\n",
       "      <td>1.000000</td>\n",
       "      <td>0.000000</td>\n",
       "      <td>0.000000</td>\n",
       "      <td>1.000000</td>\n",
       "      <td>1.000000</td>\n",
       "      <td>1.000000</td>\n",
       "    </tr>\n",
       "    <tr>\n",
       "      <th>max</th>\n",
       "      <td>1313.000000</td>\n",
       "      <td>1.000000</td>\n",
       "      <td>71.000000</td>\n",
       "      <td>0</td>\n",
       "      <td>1.000000</td>\n",
       "      <td>1.000000</td>\n",
       "      <td>1.000000</td>\n",
       "      <td>1.000000</td>\n",
       "      <td>1.000000</td>\n",
       "      <td>1.000000</td>\n",
       "      <td>1.000000</td>\n",
       "      <td>1.000000</td>\n",
       "    </tr>\n",
       "  </tbody>\n",
       "</table>\n",
       "</div>"
      ],
      "text/plain": [
       "         row.names     survived         age  embarked  embarked=Cherbourg  \\\n",
       "count  1313.000000  1313.000000  633.000000       821         1313.000000   \n",
       "mean    657.000000     0.341965   31.194181         0            0.154608   \n",
       "std     379.174762     0.474549   14.747525         0            0.361668   \n",
       "min       1.000000     0.000000    0.166700         0            0.000000   \n",
       "25%     329.000000     0.000000   21.000000         0            0.000000   \n",
       "50%     657.000000     0.000000   30.000000         0            0.000000   \n",
       "75%     985.000000     1.000000   41.000000         0            0.000000   \n",
       "max    1313.000000     1.000000   71.000000         0            1.000000   \n",
       "\n",
       "       embarked=Queenstown  embarked=Southampton   pclass=1st   pclass=2nd  \\\n",
       "count          1313.000000           1313.000000  1313.000000  1313.000000   \n",
       "mean              0.034273              0.436405     0.245240     0.213252   \n",
       "std               0.181998              0.496128     0.430393     0.409760   \n",
       "min               0.000000              0.000000     0.000000     0.000000   \n",
       "25%               0.000000              0.000000     0.000000     0.000000   \n",
       "50%               0.000000              0.000000     0.000000     0.000000   \n",
       "75%               0.000000              1.000000     0.000000     0.000000   \n",
       "max               1.000000              1.000000     1.000000     1.000000   \n",
       "\n",
       "        pclass=3rd   sex=female     sex=male  \n",
       "count  1313.000000  1313.000000  1313.000000  \n",
       "mean      0.541508     0.352628     0.647372  \n",
       "std       0.498464     0.477970     0.477970  \n",
       "min       0.000000     0.000000     0.000000  \n",
       "25%       0.000000     0.000000     0.000000  \n",
       "50%       1.000000     0.000000     1.000000  \n",
       "75%       1.000000     1.000000     1.000000  \n",
       "max       1.000000     1.000000     1.000000  "
      ]
     },
     "execution_count": 7,
     "metadata": {},
     "output_type": "execute_result"
    }
   ],
   "source": [
    "titanic.describe()"
   ]
  },
  {
   "cell_type": "markdown",
   "metadata": {},
   "source": [
    "'embarked' 속성은 무엇을 가지는가?\n"
   ]
  },
  {
   "cell_type": "code",
   "execution_count": 8,
   "metadata": {
    "collapsed": false
   },
   "outputs": [
    {
     "name": "stdout",
     "output_type": "stream",
     "text": [
      "   embarked  embarked=Cherbourg  embarked=Queenstown  embarked=Southampton  \\\n",
      "0         0                   0                    0                     1   \n",
      "1         0                   0                    0                     1   \n",
      "2         0                   0                    0                     1   \n",
      "3         0                   0                    0                     1   \n",
      "4         0                   0                    0                     1   \n",
      "\n",
      "   pclass=1st  pclass=2nd  pclass=3rd  sex=female  sex=male  \n",
      "0           1           0           0           1         0  \n",
      "1           1           0           0           1         0  \n",
      "2           1           0           0           0         1  \n",
      "3           1           0           0           1         0  \n",
      "4           1           0           0           0         1  \n",
      "     embarked  embarked=Cherbourg  embarked=Queenstown  embarked=Southampton  \\\n",
      "62        NaN                   0                    0                     0   \n",
      "165       NaN                   0                    0                     0   \n",
      "195       NaN                   0                    0                     0   \n",
      "196       NaN                   0                    0                     0   \n",
      "229       NaN                   0                    0                     0   \n",
      "\n",
      "     pclass=1st  pclass=2nd  pclass=3rd  sex=female  sex=male  \n",
      "62            1           0           0           0         1  \n",
      "165           1           0           0           0         1  \n",
      "195           1           0           0           0         1  \n",
      "196           1           0           0           0         1  \n",
      "229           1           0           0           0         1  \n"
     ]
    }
   ],
   "source": [
    "print titanic_n.head(5)\n",
    "print titanic_n[titanic_n['embarked'] != 0].head()"
   ]
  },
  {
   "cell_type": "markdown",
   "metadata": {},
   "source": [
    "남은 범주적 속성도 변환한다."
   ]
  },
  {
   "cell_type": "code",
   "execution_count": 9,
   "metadata": {
    "collapsed": false
   },
   "outputs": [
    {
     "name": "stdout",
     "output_type": "stream",
     "text": [
      "   row.names  survived                                             name  \\\n",
      "0          1         1                     Allen, Miss Elisabeth Walton   \n",
      "1          2         0                      Allison, Miss Helen Loraine   \n",
      "2          3         0              Allison, Mr Hudson Joshua Creighton   \n",
      "3          4         0  Allison, Mrs Hudson J.C. (Bessie Waldo Daniels)   \n",
      "4          5         1                    Allison, Master Hudson Trevor   \n",
      "\n",
      "       age                        home.dest room      ticket   boat  embarked  \\\n",
      "0  29.0000                     St Louis, MO  B-5  24160 L221      2         0   \n",
      "1   2.0000  Montreal, PQ / Chesterville, ON  C26         NaN    NaN         0   \n",
      "2  30.0000  Montreal, PQ / Chesterville, ON  C26         NaN  (135)         0   \n",
      "3  25.0000  Montreal, PQ / Chesterville, ON  C26         NaN    NaN         0   \n",
      "4   0.9167  Montreal, PQ / Chesterville, ON  C22         NaN     11         0   \n",
      "\n",
      "   embarked=Cherbourg  embarked=Queenstown  embarked=Southampton  pclass=1st  \\\n",
      "0                   0                    0                     1           1   \n",
      "1                   0                    0                     1           1   \n",
      "2                   0                    0                     1           1   \n",
      "3                   0                    0                     1           1   \n",
      "4                   0                    0                     1           1   \n",
      "\n",
      "   pclass=2nd  pclass=3rd  sex=female  sex=male  \n",
      "0           0           0           1         0  \n",
      "1           0           0           1         0  \n",
      "2           0           0           0         1  \n",
      "3           0           0           1         0  \n",
      "4           0           0           0         1  \n"
     ]
    }
   ],
   "source": [
    "print titanic.head()\n",
    "titanic, titanic_n = one_hot_dataframe(titanic, ['home.dest', 'room', 'ticket', 'boat'], replace=True)\n"
   ]
  },
  {
   "cell_type": "markdown",
   "metadata": {},
   "source": [
    "나이의 결측치에 평균 나이를 부여한다."
   ]
  },
  {
   "cell_type": "code",
   "execution_count": 10,
   "metadata": {
    "collapsed": false
   },
   "outputs": [
    {
     "name": "stdout",
     "output_type": "stream",
     "text": [
      "count    633.000000\n",
      "mean      31.194181\n",
      "std       14.747525\n",
      "min        0.166700\n",
      "25%       21.000000\n",
      "50%       30.000000\n",
      "75%       41.000000\n",
      "max       71.000000\n",
      "Name: age, dtype: float64\n",
      "count    1313.000000\n",
      "mean       31.194181\n",
      "std        10.235540\n",
      "min         0.166700\n",
      "25%        30.000000\n",
      "50%        31.194181\n",
      "75%        31.194181\n",
      "max        71.000000\n",
      "Name: age, dtype: float64\n"
     ]
    }
   ],
   "source": [
    "print titanic['age'].describe()\n",
    "mean = titanic['age'].mean()\n",
    "titanic['age'].fillna(mean, inplace=True)\n",
    "print titanic['age'].describe()"
   ]
  },
  {
   "cell_type": "markdown",
   "metadata": {},
   "source": [
    "0으로 나머지 결측치에 부여한다.\n"
   ]
  },
  {
   "cell_type": "code",
   "execution_count": 11,
   "metadata": {
    "collapsed": false
   },
   "outputs": [],
   "source": [
    "titanic.fillna(0, inplace=True)"
   ]
  },
  {
   "cell_type": "code",
   "execution_count": 12,
   "metadata": {
    "collapsed": false
   },
   "outputs": [
    {
     "name": "stdout",
     "output_type": "stream",
     "text": [
      "      row.names  survived                                              name  \\\n",
      "0             1         1                      Allen, Miss Elisabeth Walton   \n",
      "1             2         0                       Allison, Miss Helen Loraine   \n",
      "2             3         0               Allison, Mr Hudson Joshua Creighton   \n",
      "3             4         0   Allison, Mrs Hudson J.C. (Bessie Waldo Daniels)   \n",
      "4             5         1                     Allison, Master Hudson Trevor   \n",
      "5             6         1                                Anderson, Mr Harry   \n",
      "6             7         1                  Andrews, Miss Kornelia Theodosia   \n",
      "7             8         0                            Andrews, Mr Thomas, jr   \n",
      "8             9         1      Appleton, Mrs Edward Dale (Charlotte Lamson)   \n",
      "9            10         0                            Artagaveytia, Mr Ramon   \n",
      "10           11         0                         Astor, Colonel John Jacob   \n",
      "11           12         1  Astor, Mrs John Jacob (Madeleine Talmadge Force)   \n",
      "12           13         1                      Aubert, Mrs Leontine Pauline   \n",
      "13           14         1                         Barkworth, Mr Algernon H.   \n",
      "14           15         0                               Baumann, Mr John D.   \n",
      "15           16         1    Baxter, Mrs James (Helene DeLaudeniere Chaput)   \n",
      "16           17         0                           Baxter, Mr Quigg Edmond   \n",
      "17           18         0                               Beattie, Mr Thomson   \n",
      "18           19         1                      Beckwith, Mr Richard Leonard   \n",
      "19           20         1   Beckwith, Mrs Richard Leonard (Sallie Monypeny)   \n",
      "20           21         1                              Behr, Mr Karl Howell   \n",
      "21           22         0                                Birnbaum, Mr Jakob   \n",
      "22           23         1                           Bishop, Mr Dickinson H.   \n",
      "23           24         1           Bishop, Mrs Dickinson H. (Helen Walton)   \n",
      "24           25         1           Bjornstrm-Steffansson, Mr Mauritz Hakan   \n",
      "25           26         0                       Blackwell, Mr Stephen Weart   \n",
      "26           27         1                                   Blank, Mr Henry   \n",
      "27           28         1                            Bonnell, Miss Caroline   \n",
      "28           29         1                           Bonnell, Miss Elizabeth   \n",
      "29           30         0                           Borebank, Mr John James   \n",
      "...         ...       ...                                               ...   \n",
      "1283       1284         0               Vestrom, Miss Hulda Amanda Adolfina   \n",
      "1284       1285         0                                    Vonk, Mr Jenko   \n",
      "1285       1286         0                                Ware, Mr Frederick   \n",
      "1286       1287         0                        Warren, Mr Charles William   \n",
      "1287       1288         0                                  Wazli, Mr Yousif   \n",
      "1288       1289         0                                  Webber, Mr James   \n",
      "1289       1290         1                     Wennerstrom, Mr August Edvard   \n",
      "1290       1291         0                                Wenzel, Mr Linhart   \n",
      "1291       1292         0                        Widegren, Mr Charles Peter   \n",
      "1292       1293         0                          Wiklund, Mr Jacob Alfred   \n",
      "1293       1294         1                                 Wilkes, Mrs Ellen   \n",
      "1294       1295         0                                  Willer, Mr Aaron   \n",
      "1295       1296         0                                 Willey, Mr Edward   \n",
      "1296       1297         0                          Williams, Mr Howard Hugh   \n",
      "1297       1298         0                               Williams, Mr Leslie   \n",
      "1298       1299         0                                Windelov, Mr Einar   \n",
      "1299       1300         0                                   Wirz, Mr Albert   \n",
      "1300       1301         0                             Wiseman, Mr Phillippe   \n",
      "1301       1302         0                           Wittevrongel, Mr Camiel   \n",
      "1302       1303         1                                 Yalsevac, Mr Ivan   \n",
      "1303       1304         0                                Yasbeck, Mr Antoni   \n",
      "1304       1305         1                               Yasbeck, Mrs Antoni   \n",
      "1305       1306         0                                Youssef, Mr Gerios   \n",
      "1306       1307         0                               Zabour, Miss Hileni   \n",
      "1307       1308         0                               Zabour, Miss Tamini   \n",
      "1308       1309         0                                Zakarian, Mr Artun   \n",
      "1309       1310         0                            Zakarian, Mr Maprieder   \n",
      "1310       1311         0                                   Zenn, Mr Philip   \n",
      "1311       1312         0                                     Zievens, Rene   \n",
      "1312       1313         0                                    Zimmerman, Leo   \n",
      "\n",
      "            age  embarked  embarked=Cherbourg  embarked=Queenstown  \\\n",
      "0     29.000000         0                   0                    0   \n",
      "1      2.000000         0                   0                    0   \n",
      "2     30.000000         0                   0                    0   \n",
      "3     25.000000         0                   0                    0   \n",
      "4      0.916700         0                   0                    0   \n",
      "5     47.000000         0                   0                    0   \n",
      "6     63.000000         0                   0                    0   \n",
      "7     39.000000         0                   0                    0   \n",
      "8     58.000000         0                   0                    0   \n",
      "9     71.000000         0                   1                    0   \n",
      "10    47.000000         0                   1                    0   \n",
      "11    19.000000         0                   1                    0   \n",
      "12    31.194181         0                   1                    0   \n",
      "13    31.194181         0                   0                    0   \n",
      "14    31.194181         0                   0                    0   \n",
      "15    50.000000         0                   1                    0   \n",
      "16    24.000000         0                   1                    0   \n",
      "17    36.000000         0                   1                    0   \n",
      "18    37.000000         0                   0                    0   \n",
      "19    47.000000         0                   0                    0   \n",
      "20    26.000000         0                   1                    0   \n",
      "21    25.000000         0                   1                    0   \n",
      "22    25.000000         0                   1                    0   \n",
      "23    19.000000         0                   1                    0   \n",
      "24    28.000000         0                   0                    0   \n",
      "25    45.000000         0                   0                    0   \n",
      "26    39.000000         0                   1                    0   \n",
      "27    30.000000         0                   0                    0   \n",
      "28    58.000000         0                   0                    0   \n",
      "29    31.194181         0                   0                    0   \n",
      "...         ...       ...                 ...                  ...   \n",
      "1283  31.194181         0                   0                    0   \n",
      "1284  31.194181         0                   0                    0   \n",
      "1285  31.194181         0                   0                    0   \n",
      "1286  31.194181         0                   0                    0   \n",
      "1287  31.194181         0                   0                    0   \n",
      "1288  31.194181         0                   0                    0   \n",
      "1289  31.194181         0                   0                    0   \n",
      "1290  31.194181         0                   0                    0   \n",
      "1291  31.194181         0                   0                    0   \n",
      "1292  31.194181         0                   0                    0   \n",
      "1293  31.194181         0                   0                    0   \n",
      "1294  31.194181         0                   0                    0   \n",
      "1295  31.194181         0                   0                    0   \n",
      "1296  31.194181         0                   0                    0   \n",
      "1297  31.194181         0                   0                    0   \n",
      "1298  31.194181         0                   0                    0   \n",
      "1299  31.194181         0                   0                    0   \n",
      "1300  31.194181         0                   0                    0   \n",
      "1301  31.194181         0                   0                    0   \n",
      "1302  31.194181         0                   0                    0   \n",
      "1303  31.194181         0                   0                    0   \n",
      "1304  31.194181         0                   0                    0   \n",
      "1305  31.194181         0                   0                    0   \n",
      "1306  31.194181         0                   0                    0   \n",
      "1307  31.194181         0                   0                    0   \n",
      "1308  31.194181         0                   0                    0   \n",
      "1309  31.194181         0                   0                    0   \n",
      "1310  31.194181         0                   0                    0   \n",
      "1311  31.194181         0                   0                    0   \n",
      "1312  31.194181         0                   0                    0   \n",
      "\n",
      "      embarked=Southampton  pclass=1st  pclass=2nd      ...        \\\n",
      "0                        1           1           0      ...         \n",
      "1                        1           1           0      ...         \n",
      "2                        1           1           0      ...         \n",
      "3                        1           1           0      ...         \n",
      "4                        1           1           0      ...         \n",
      "5                        1           1           0      ...         \n",
      "6                        1           1           0      ...         \n",
      "7                        1           1           0      ...         \n",
      "8                        1           1           0      ...         \n",
      "9                        0           1           0      ...         \n",
      "10                       0           1           0      ...         \n",
      "11                       0           1           0      ...         \n",
      "12                       0           1           0      ...         \n",
      "13                       1           1           0      ...         \n",
      "14                       1           1           0      ...         \n",
      "15                       0           1           0      ...         \n",
      "16                       0           1           0      ...         \n",
      "17                       0           1           0      ...         \n",
      "18                       1           1           0      ...         \n",
      "19                       1           1           0      ...         \n",
      "20                       0           1           0      ...         \n",
      "21                       0           1           0      ...         \n",
      "22                       0           1           0      ...         \n",
      "23                       0           1           0      ...         \n",
      "24                       1           1           0      ...         \n",
      "25                       1           1           0      ...         \n",
      "26                       0           1           0      ...         \n",
      "27                       1           1           0      ...         \n",
      "28                       1           1           0      ...         \n",
      "29                       1           1           0      ...         \n",
      "...                    ...         ...         ...      ...         \n",
      "1283                     0           0           0      ...         \n",
      "1284                     0           0           0      ...         \n",
      "1285                     0           0           0      ...         \n",
      "1286                     0           0           0      ...         \n",
      "1287                     0           0           0      ...         \n",
      "1288                     0           0           0      ...         \n",
      "1289                     0           0           0      ...         \n",
      "1290                     0           0           0      ...         \n",
      "1291                     0           0           0      ...         \n",
      "1292                     0           0           0      ...         \n",
      "1293                     0           0           0      ...         \n",
      "1294                     0           0           0      ...         \n",
      "1295                     0           0           0      ...         \n",
      "1296                     0           0           0      ...         \n",
      "1297                     0           0           0      ...         \n",
      "1298                     0           0           0      ...         \n",
      "1299                     0           0           0      ...         \n",
      "1300                     0           0           0      ...         \n",
      "1301                     0           0           0      ...         \n",
      "1302                     0           0           0      ...         \n",
      "1303                     0           0           0      ...         \n",
      "1304                     0           0           0      ...         \n",
      "1305                     0           0           0      ...         \n",
      "1306                     0           0           0      ...         \n",
      "1307                     0           0           0      ...         \n",
      "1308                     0           0           0      ...         \n",
      "1309                     0           0           0      ...         \n",
      "1310                     0           0           0      ...         \n",
      "1311                     0           0           0      ...         \n",
      "1312                     0           0           0      ...         \n",
      "\n",
      "      ticket=248744 L13  ticket=248749 L13  ticket=250647  ticket=27849  \\\n",
      "0                     0                  0              0             0   \n",
      "1                     0                  0              0             0   \n",
      "2                     0                  0              0             0   \n",
      "3                     0                  0              0             0   \n",
      "4                     0                  0              0             0   \n",
      "5                     0                  0              0             0   \n",
      "6                     0                  0              0             0   \n",
      "7                     0                  0              0             0   \n",
      "8                     0                  0              0             0   \n",
      "9                     0                  0              0             0   \n",
      "10                    0                  0              0             0   \n",
      "11                    0                  0              0             0   \n",
      "12                    0                  0              0             0   \n",
      "13                    0                  0              0             0   \n",
      "14                    0                  0              0             0   \n",
      "15                    0                  0              0             0   \n",
      "16                    0                  0              0             0   \n",
      "17                    0                  0              0             0   \n",
      "18                    0                  0              0             0   \n",
      "19                    0                  0              0             0   \n",
      "20                    0                  0              0             0   \n",
      "21                    0                  0              0             0   \n",
      "22                    0                  0              0             0   \n",
      "23                    0                  0              0             0   \n",
      "24                    0                  0              0             0   \n",
      "25                    0                  0              0             0   \n",
      "26                    0                  0              0             0   \n",
      "27                    0                  0              0             0   \n",
      "28                    0                  0              0             0   \n",
      "29                    0                  0              0             0   \n",
      "...                 ...                ...            ...           ...   \n",
      "1283                  0                  0              0             0   \n",
      "1284                  0                  0              0             0   \n",
      "1285                  0                  0              0             0   \n",
      "1286                  0                  0              0             0   \n",
      "1287                  0                  0              0             0   \n",
      "1288                  0                  0              0             0   \n",
      "1289                  0                  0              0             0   \n",
      "1290                  0                  0              0             0   \n",
      "1291                  0                  0              0             0   \n",
      "1292                  0                  0              0             0   \n",
      "1293                  0                  0              0             0   \n",
      "1294                  0                  0              0             0   \n",
      "1295                  0                  0              0             0   \n",
      "1296                  0                  0              0             0   \n",
      "1297                  0                  0              0             0   \n",
      "1298                  0                  0              0             0   \n",
      "1299                  0                  0              0             0   \n",
      "1300                  0                  0              0             0   \n",
      "1301                  0                  0              0             0   \n",
      "1302                  0                  0              0             0   \n",
      "1303                  0                  0              0             0   \n",
      "1304                  0                  0              0             0   \n",
      "1305                  0                  0              0             0   \n",
      "1306                  0                  0              0             0   \n",
      "1307                  0                  0              0             0   \n",
      "1308                  0                  0              0             0   \n",
      "1309                  0                  0              0             0   \n",
      "1310                  0                  0              0             0   \n",
      "1311                  0                  0              0             0   \n",
      "1312                  0                  0              0             0   \n",
      "\n",
      "      ticket=28220 L32 10s  ticket=34218 L10 10s  ticket=36973 L83 9s 6d  \\\n",
      "0                        0                     0                       0   \n",
      "1                        0                     0                       0   \n",
      "2                        0                     0                       0   \n",
      "3                        0                     0                       0   \n",
      "4                        0                     0                       0   \n",
      "5                        0                     0                       0   \n",
      "6                        0                     0                       0   \n",
      "7                        0                     0                       0   \n",
      "8                        0                     0                       0   \n",
      "9                        0                     0                       0   \n",
      "10                       0                     0                       0   \n",
      "11                       0                     0                       0   \n",
      "12                       0                     0                       0   \n",
      "13                       0                     0                       0   \n",
      "14                       0                     0                       0   \n",
      "15                       0                     0                       0   \n",
      "16                       0                     0                       0   \n",
      "17                       0                     0                       0   \n",
      "18                       0                     0                       0   \n",
      "19                       0                     0                       0   \n",
      "20                       0                     0                       0   \n",
      "21                       0                     0                       0   \n",
      "22                       0                     0                       0   \n",
      "23                       0                     0                       0   \n",
      "24                       0                     0                       0   \n",
      "25                       0                     0                       0   \n",
      "26                       0                     0                       0   \n",
      "27                       0                     0                       0   \n",
      "28                       0                     0                       0   \n",
      "29                       0                     0                       0   \n",
      "...                    ...                   ...                     ...   \n",
      "1283                     0                     0                       0   \n",
      "1284                     0                     0                       0   \n",
      "1285                     0                     0                       0   \n",
      "1286                     0                     0                       0   \n",
      "1287                     0                     0                       0   \n",
      "1288                     0                     0                       0   \n",
      "1289                     0                     0                       0   \n",
      "1290                     0                     0                       0   \n",
      "1291                     0                     0                       0   \n",
      "1292                     0                     0                       0   \n",
      "1293                     0                     0                       0   \n",
      "1294                     0                     0                       0   \n",
      "1295                     0                     0                       0   \n",
      "1296                     0                     0                       0   \n",
      "1297                     0                     0                       0   \n",
      "1298                     0                     0                       0   \n",
      "1299                     0                     0                       0   \n",
      "1300                     0                     0                       0   \n",
      "1301                     0                     0                       0   \n",
      "1302                     0                     0                       0   \n",
      "1303                     0                     0                       0   \n",
      "1304                     0                     0                       0   \n",
      "1305                     0                     0                       0   \n",
      "1306                     0                     0                       0   \n",
      "1307                     0                     0                       0   \n",
      "1308                     0                     0                       0   \n",
      "1309                     0                     0                       0   \n",
      "1310                     0                     0                       0   \n",
      "1311                     0                     0                       0   \n",
      "1312                     0                     0                       0   \n",
      "\n",
      "      ticket=392091  ticket=7076  ticket=L15 1s  \n",
      "0                 0            0              0  \n",
      "1                 0            0              0  \n",
      "2                 0            0              0  \n",
      "3                 0            0              0  \n",
      "4                 0            0              0  \n",
      "5                 0            0              0  \n",
      "6                 0            0              0  \n",
      "7                 0            0              0  \n",
      "8                 0            0              0  \n",
      "9                 0            0              0  \n",
      "10                0            0              0  \n",
      "11                0            0              0  \n",
      "12                0            0              0  \n",
      "13                0            0              0  \n",
      "14                0            0              0  \n",
      "15                0            0              0  \n",
      "16                0            0              0  \n",
      "17                0            0              0  \n",
      "18                0            0              0  \n",
      "19                0            0              0  \n",
      "20                0            0              0  \n",
      "21                0            0              0  \n",
      "22                0            0              0  \n",
      "23                0            0              0  \n",
      "24                0            0              0  \n",
      "25                0            0              0  \n",
      "26                0            0              0  \n",
      "27                0            0              0  \n",
      "28                0            0              0  \n",
      "29                0            0              0  \n",
      "...             ...          ...            ...  \n",
      "1283              0            0              0  \n",
      "1284              0            0              0  \n",
      "1285              0            0              0  \n",
      "1286              0            0              0  \n",
      "1287              0            0              0  \n",
      "1288              0            0              0  \n",
      "1289              0            0              0  \n",
      "1290              0            0              0  \n",
      "1291              0            0              0  \n",
      "1292              0            0              0  \n",
      "1293              0            0              0  \n",
      "1294              0            0              0  \n",
      "1295              0            0              0  \n",
      "1296              0            0              0  \n",
      "1297              0            0              0  \n",
      "1298              0            0              0  \n",
      "1299              0            0              0  \n",
      "1300              0            0              0  \n",
      "1301              0            0              0  \n",
      "1302              0            0              0  \n",
      "1303              0            0              0  \n",
      "1304              0            0              0  \n",
      "1305              0            0              0  \n",
      "1306              0            0              0  \n",
      "1307              0            0              0  \n",
      "1308              0            0              0  \n",
      "1309              0            0              0  \n",
      "1310              0            0              0  \n",
      "1311              0            0              0  \n",
      "1312              0            0              0  \n",
      "\n",
      "[1313 rows x 581 columns]\n"
     ]
    }
   ],
   "source": [
    "print titanic"
   ]
  },
  {
   "cell_type": "markdown",
   "metadata": {},
   "source": [
    "훈련 데이터와 테스트 데이터를 만든다."
   ]
  },
  {
   "cell_type": "code",
   "execution_count": 13,
   "metadata": {
    "collapsed": false
   },
   "outputs": [],
   "source": [
    "from sklearn.cross_validation import train_test_split\n",
    "titanic_target = titanic['survived']\n",
    "titanic_data = titanic.drop(['name', 'row.names', 'survived'], axis=1)\n",
    "X_train, X_test, y_train, y_test = train_test_split(titanic_data, titanic_target, test_size=0.25, random_state=33)\n"
   ]
  },
  {
   "cell_type": "code",
   "execution_count": 14,
   "metadata": {
    "collapsed": false
   },
   "outputs": [],
   "source": [
    "from sklearn import tree\n",
    "dt = tree.DecisionTreeClassifier(criterion='entropy')\n",
    "dt = dt.fit(X_train, y_train)\n"
   ]
  },
  {
   "cell_type": "code",
   "execution_count": 15,
   "metadata": {
    "collapsed": false
   },
   "outputs": [
    {
     "ename": "ImportError",
     "evalue": "No module named pydot",
     "output_type": "error",
     "traceback": [
      "\u001b[1;31m---------------------------------------------------------------------------\u001b[0m",
      "\u001b[1;31mImportError\u001b[0m                               Traceback (most recent call last)",
      "\u001b[1;32m<ipython-input-15-9bbac218ded7>\u001b[0m in \u001b[0;36m<module>\u001b[1;34m()\u001b[0m\n\u001b[1;32m----> 1\u001b[1;33m \u001b[1;32mimport\u001b[0m \u001b[0mpydot\u001b[0m\u001b[1;33m,\u001b[0m \u001b[0mStringIO\u001b[0m\u001b[1;33m\u001b[0m\u001b[0m\n\u001b[0m\u001b[0;32m      2\u001b[0m \u001b[0mdot_data\u001b[0m \u001b[1;33m=\u001b[0m \u001b[0mStringIO\u001b[0m\u001b[1;33m.\u001b[0m\u001b[0mStringIO\u001b[0m\u001b[1;33m(\u001b[0m\u001b[1;33m)\u001b[0m\u001b[1;33m\u001b[0m\u001b[0m\n\u001b[0;32m      3\u001b[0m \u001b[0mtree\u001b[0m\u001b[1;33m.\u001b[0m\u001b[0mexport_graphviz\u001b[0m\u001b[1;33m(\u001b[0m\u001b[0mdt\u001b[0m\u001b[1;33m,\u001b[0m \u001b[0mout_file\u001b[0m\u001b[1;33m=\u001b[0m\u001b[0mdot_data\u001b[0m\u001b[1;33m,\u001b[0m \u001b[0mfeature_names\u001b[0m\u001b[1;33m=\u001b[0m\u001b[0mtitanic_data\u001b[0m\u001b[1;33m.\u001b[0m\u001b[0mcolumns\u001b[0m\u001b[1;33m)\u001b[0m\u001b[1;33m\u001b[0m\u001b[0m\n\u001b[0;32m      4\u001b[0m \u001b[0mgraph\u001b[0m \u001b[1;33m=\u001b[0m \u001b[0mpydot\u001b[0m\u001b[1;33m.\u001b[0m\u001b[0mgraph_from_dot_data\u001b[0m\u001b[1;33m(\u001b[0m\u001b[0mdot_data\u001b[0m\u001b[1;33m.\u001b[0m\u001b[0mgetvalue\u001b[0m\u001b[1;33m(\u001b[0m\u001b[1;33m)\u001b[0m\u001b[1;33m)\u001b[0m\u001b[1;33m\u001b[0m\u001b[0m\n\u001b[0;32m      5\u001b[0m \u001b[0mgraph\u001b[0m\u001b[1;33m.\u001b[0m\u001b[0mwrite_png\u001b[0m\u001b[1;33m(\u001b[0m\u001b[1;34m'titanic.png'\u001b[0m\u001b[1;33m)\u001b[0m\u001b[1;33m\u001b[0m\u001b[0m\n",
      "\u001b[1;31mImportError\u001b[0m: No module named pydot"
     ]
    }
   ],
   "source": [
    "import pydot, StringIO\n",
    "dot_data = StringIO.StringIO()\n",
    "tree.export_graphviz(dt, out_file=dot_data, feature_names=titanic_data.columns)\n",
    "graph = pydot.graph_from_dot_data(dot_data.getvalue())\n",
    "graph.write_png('titanic.png')\n",
    "from IPython.core.display import Image\n",
    "Image(filename='titanic.png')"
   ]
  },
  {
   "cell_type": "code",
   "execution_count": 19,
   "metadata": {
    "collapsed": false
   },
   "outputs": [],
   "source": [
    "from sklearn import metrics\n",
    "def measure_performance(X, y, clf, show_accuracy=True, show_classification_report=True, show_confussion_matrix=True):\n",
    "    y_pred = clf.predict(X)   \n",
    "    if show_accuracy:\n",
    "         print \"Accuracy:{0:.3f}\".format(metrics.accuracy_score(y, y_pred)),\"\\n\"\n",
    "    if show_classification_report:\n",
    "        print \"Classification report\"\n",
    "        print metrics.classification_report(y, y_pred),\"\\n\"\n",
    "      \n",
    "    if show_confussion_matrix:\n",
    "        print \"Confussion matrix\"\n",
    "        print metrics.confusion_matrix(y, y_pred),\"\\n\""
   ]
  },
  {
   "cell_type": "code",
   "execution_count": 20,
   "metadata": {
    "collapsed": false
   },
   "outputs": [
    {
     "name": "stdout",
     "output_type": "stream",
     "text": [
      "Accuracy:0.842 \n",
      "\n"
     ]
    }
   ],
   "source": [
    "from sklearn import metrics\n",
    "measure_performance(X_test, y_test, dt, show_confussion_matrix=False, show_classification_report=False)"
   ]
  },
  {
   "cell_type": "markdown",
   "metadata": {},
   "source": [
    "## 속성 선택(Feature Selection)"
   ]
  },
  {
   "cell_type": "markdown",
   "metadata": {},
   "source": [
    "카이제곱 테스트를 사용하여 가장 중요한 20%만 선택한다.\n"
   ]
  },
  {
   "cell_type": "code",
   "execution_count": 21,
   "metadata": {
    "collapsed": false
   },
   "outputs": [
    {
     "name": "stdout",
     "output_type": "stream",
     "text": [
      "Index([u'age', u'embarked=Cherbourg', u'embarked=Southampton', u'pclass=1st',\n",
      "       u'pclass=2nd', u'pclass=3rd', u'sex=female', u'sex=male', u'boat=1',\n",
      "       u'boat=10',\n",
      "       ...\n",
      "       u'room=C-125', u'room=C-7', u'room=D-35', u'ticket=111361 L57 19s 7d',\n",
      "       u'ticket=13502 L77', u'ticket=17582 L153 9s 3d',\n",
      "       u'ticket=17608 L262 7s 6d', u'ticket=230136 L39', u'ticket=24160 L221',\n",
      "       u'ticket=392091'],\n",
      "      dtype='object', length=115)\n",
      "41.2650346212\n",
      "embarked=Cherbourg\n"
     ]
    }
   ],
   "source": [
    "from sklearn import feature_selection\n",
    "fs = feature_selection.SelectPercentile(feature_selection.chi2, percentile=20)\n",
    "X_train_fs = fs.fit_transform(X_train, y_train)\n",
    "print titanic_data.columns[fs.get_support()]\n",
    "print fs.scores_[2]\n",
    "print titanic_data.columns[2]\n"
   ]
  },
  {
   "cell_type": "markdown",
   "metadata": {},
   "source": [
    "새로운 속성으로 성능을 평가한다.\n"
   ]
  },
  {
   "cell_type": "code",
   "execution_count": 22,
   "metadata": {
    "collapsed": false
   },
   "outputs": [
    {
     "name": "stdout",
     "output_type": "stream",
     "text": [
      "Accuracy:0.836 \n",
      "\n"
     ]
    }
   ],
   "source": [
    "dt.fit(X_train_fs, y_train)\n",
    "X_test_fs = fs.transform(X_test)\n",
    "measure_performance(X_test_fs, y_test, dt, show_confussion_matrix=False, show_classification_report=False)"
   ]
  },
  {
   "cell_type": "markdown",
   "metadata": {},
   "source": [
    "훈련 데이터로 교차 검증을 사용하여 최적의 백분위수를 구한다.\n"
   ]
  },
  {
   "cell_type": "code",
   "execution_count": 23,
   "metadata": {
    "collapsed": false
   },
   "outputs": [
    {
     "name": "stdout",
     "output_type": "stream",
     "text": [
      "Optimal number of features:6 \n",
      "\n",
      "Mean scores: [ 0.83332303  0.88008658  0.87297464  0.86993403  0.87094414  0.87196454\n",
      "  0.86280148  0.8638322   0.87194393  0.87602556  0.87296434  0.87398475\n",
      "  0.87297464  0.87296434  0.86584209  0.86179138  0.86279118  0.86077098\n",
      "  0.86381159  0.86584209]\n"
     ]
    },
    {
     "name": "stderr",
     "output_type": "stream",
     "text": [
      "C:\\Users\\chulw\\Anaconda2\\lib\\site-packages\\ipykernel\\__main__.py:13: DeprecationWarning: converting an array with ndim > 0 to an index will result in an error in the future\n"
     ]
    },
    {
     "data": {
      "image/png": "[encoded data removed]",
      "text/plain": [
       "<matplotlib.figure.Figure at 0xce325f8>"
      ]
     },
     "metadata": {},
     "output_type": "display_data"
    }
   ],
   "source": [
    "from sklearn import cross_validation\n",
    "\n",
    "percentiles = range(1, 100, 5)\n",
    "results = []\n",
    "for i in range(1, 100, 5):\n",
    "    fs = feature_selection.SelectPercentile(feature_selection.chi2, percentile=i)\n",
    "    X_train_fs = fs.fit_transform(X_train, y_train)\n",
    "    scores = cross_validation.cross_val_score(dt, X_train_fs, y_train, cv=5)\n",
    "    #print i,scores.mean()\n",
    "    results = np.append(results, scores.mean())\n",
    "\n",
    "optimal_percentil = np.where(results == results.max())[0]\n",
    "print \"Optimal number of features:{0}\".format(percentiles[optimal_percentil]), \"\\n\"\n",
    "\n",
    "# 속성의 개수 VS. 교차 검증 점수를 그린다\n",
    "import pylab as pl\n",
    "pl.figure()\n",
    "pl.xlabel(\"Number of features selected\")\n",
    "pl.ylabel(\"Cross validation accuracy)\")\n",
    "pl.plot(percentiles,results)\n",
    "print \"Mean scores:\",results"
   ]
  },
  {
   "cell_type": "markdown",
   "metadata": {},
   "source": [
    "테스트 데이터로 속성의 최적 개수를 평가한다.\n"
   ]
  },
  {
   "cell_type": "code",
   "execution_count": 24,
   "metadata": {
    "collapsed": false
   },
   "outputs": [
    {
     "name": "stdout",
     "output_type": "stream",
     "text": [
      "Accuracy:0.860 \n",
      "\n"
     ]
    },
    {
     "name": "stderr",
     "output_type": "stream",
     "text": [
      "C:\\Users\\chulw\\Anaconda2\\lib\\site-packages\\ipykernel\\__main__.py:1: DeprecationWarning: converting an array with ndim > 0 to an index will result in an error in the future\n",
      "  if __name__ == '__main__':\n"
     ]
    }
   ],
   "source": [
    "fs = feature_selection.SelectPercentile(feature_selection.chi2, percentile=percentiles[optimal_percentil])\n",
    "X_train_fs = fs.fit_transform(X_train, y_train)\n",
    "dt.fit(X_train_fs, y_train)\n",
    "X_test_fs = fs.transform(X_test)\n",
    "measure_performance(X_test_fs, y_test, dt, show_confussion_matrix=False, show_classification_report=False)"
   ]
  },
  {
   "cell_type": "markdown",
   "metadata": {},
   "source": [
    "## 모델 선택(Model selection)"
   ]
  },
  {
   "cell_type": "code",
   "execution_count": 25,
   "metadata": {
    "collapsed": false
   },
   "outputs": [
    {
     "name": "stdout",
     "output_type": "stream",
     "text": [
      "{'splitter': 'best', 'max_leaf_nodes': None, 'min_samples_leaf': 1, 'min_samples_split': 2, 'min_weight_fraction_leaf': 0.0, 'criterion': 'entropy', 'random_state': None, 'max_features': None, 'max_depth': None, 'class_weight': None}\n"
     ]
    }
   ],
   "source": [
    "print dt.get_params()"
   ]
  },
  {
   "cell_type": "markdown",
   "metadata": {},
   "source": [
    "최상의 criterion을 계산한다."
   ]
  },
  {
   "cell_type": "code",
   "execution_count": 26,
   "metadata": {
    "collapsed": false
   },
   "outputs": [
    {
     "name": "stdout",
     "output_type": "stream",
     "text": [
      "Entropy criterion accuracy on cv: 0.880\n",
      "Gini criterion accuracy on cv: 0.880\n"
     ]
    }
   ],
   "source": [
    "dt = tree.DecisionTreeClassifier(criterion='entropy')\n",
    "scores = cross_validation.cross_val_score(dt, X_train_fs, y_train, cv=5)\n",
    "print \"Entropy criterion accuracy on cv: {0:.3f}\".format(scores.mean())\n",
    "dt = tree.DecisionTreeClassifier(criterion='gini')\n",
    "scores = cross_validation.cross_val_score(dt, X_train_fs, y_train, cv=5)\n",
    "print \"Gini criterion accuracy on cv: {0:.3f}\".format(scores.mean())\n",
    "\n"
   ]
  },
  {
   "cell_type": "code",
   "execution_count": 27,
   "metadata": {
    "collapsed": false
   },
   "outputs": [
    {
     "name": "stdout",
     "output_type": "stream",
     "text": [
      "Accuracy:0.863 \n",
      "\n"
     ]
    }
   ],
   "source": [
    "dt.fit(X_train_fs, y_train)\n",
    "X_test_fs = fs.transform(X_test)\n",
    "measure_performance(X_test_fs, y_test, dt, show_confussion_matrix=False, show_classification_report=False)"
   ]
  },
  {
   "cell_type": "code",
   "execution_count": null,
   "metadata": {
    "collapsed": false
   },
   "outputs": [],
   "source": []
  }
 ],
 "metadata": {
  "kernelspec": {
   "display_name": "Python 2",
   "language": "python",
   "name": "python2"
  },
  "language_info": {
   "codemirror_mode": {
    "name": "ipython",
    "version": 2
   },
   "file_extension": ".py",
   "mimetype": "text/x-python",
   "name": "python",
   "nbconvert_exporter": "python",
   "pygments_lexer": "ipython2",
   "version": "2.7.10"
  }
 },
 "nbformat": 4,
 "nbformat_minor": 0
}
